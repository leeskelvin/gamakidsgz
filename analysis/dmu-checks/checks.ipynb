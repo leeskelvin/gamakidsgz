{
 "cells": [
  {
   "cell_type": "code",
   "execution_count": 1,
   "id": "9120694b",
   "metadata": {},
   "outputs": [],
   "source": [
    "from astropy.table import Table, join\n",
    "import numpy as np\n",
    "import os"
   ]
  },
  {
   "cell_type": "code",
   "execution_count": 2,
   "id": "ebe2f03d",
   "metadata": {},
   "outputs": [],
   "source": [
    "def check_consistency(tab1, tab2, joinkey='CATAID', atol=1e-5, path=\"../../outputs/gama-dmu/\"):\n",
    "    tab1 = Table.read(os.path.join(path, tab1))\n",
    "    tab2 = Table.read(os.path.join(path, tab2))\n",
    "    if len(tab1) != len(tab2):\n",
    "        print(f\"Tables are not the same length: {len(tab1)}, {len(tab2)}\")\n",
    "    elif not (tab1[joinkey] == tab2[joinkey]).all():\n",
    "        print(f\"Tables are same length ({len(tab1)}), however joinkey '{joinkey}' not aligned\")\n",
    "        tab1idx = np.sort(tab1[joinkey])\n",
    "        tab2idx = np.sort(tab2[joinkey])\n",
    "        if not (tab1idx == tab2idx).all():\n",
    "            print(f\"and joinkeys do not match after sorting\")\n",
    "        else:\n",
    "            print(f\"but joinkeys match after sorting\")\n",
    "    joined = join(tab1, tab2, keys=joinkey, metadata_conflicts='silent')\n",
    "    for col in tab1.columns:\n",
    "        if col != joinkey and col in tab2.columns:\n",
    "            ok = (joined[col+'_1'] == joined[col+'_2']).all()\n",
    "            if not ok:\n",
    "                print(f\"Duplicate column '{col}' is not identical\")\n",
    "                ok = np.allclose(joined[col+'_1'], joined[col+'_2'], atol=atol)\n",
    "                if ok:\n",
    "                    print(f\"but is all close\")\n",
    "                else:\n",
    "                    print(f\"and is not all close\")"
   ]
  },
  {
   "cell_type": "code",
   "execution_count": 3,
   "id": "4f79c2ca",
   "metadata": {},
   "outputs": [],
   "source": [
    "check_consistency(\"GKGZBinnedv01.fits.gz\", \"GKGZCleanedv01.fits.gz\")"
   ]
  },
  {
   "cell_type": "code",
   "execution_count": 4,
   "id": "52ebee21",
   "metadata": {},
   "outputs": [],
   "source": [
    "check_consistency(\"GKGZCleanedv01.fits.gz\", \"GKGZDebiasedv01.fits.gz\")"
   ]
  },
  {
   "cell_type": "code",
   "execution_count": 5,
   "id": "a9033155",
   "metadata": {},
   "outputs": [],
   "source": [
    "check_consistency(\"GKGZDebiasedv01.fits.gz\", \"GKGZExtrav01.fits.gz\")"
   ]
  },
  {
   "cell_type": "code",
   "execution_count": 6,
   "id": "0a16effa",
   "metadata": {},
   "outputs": [
    {
     "name": "stdout",
     "output_type": "stream",
     "text": [
      "Tables are same length (49866), however joinkey 'CATAID' not aligned\n",
      "but joinkeys match after sorting\n"
     ]
    }
   ],
   "source": [
    "check_consistency(\"GKGZDebiasedv01.fits.gz\", \"GKGZFinalv01.fits.gz\")"
   ]
  },
  {
   "cell_type": "code",
   "execution_count": 7,
   "id": "2378b64f",
   "metadata": {},
   "outputs": [
    {
     "name": "stdout",
     "output_type": "stream",
     "text": [
      "Debiased catalolgue sorted by subject_id: True\n"
     ]
    }
   ],
   "source": [
    "path = \"../../outputs/gama-dmu/\"\n",
    "table = Table.read(os.path.join(path, \"GKGZDebiasedv01.fits.gz\"))\n",
    "test = (table['subject_id'] == np.sort(table['subject_id'])).all()\n",
    "print('Debiased catalolgue sorted by subject_id:', test)"
   ]
  },
  {
   "cell_type": "code",
   "execution_count": 8,
   "id": "386141c9",
   "metadata": {},
   "outputs": [
    {
     "name": "stdout",
     "output_type": "stream",
     "text": [
      "Final catalolgue sorted by CATAID: True\n"
     ]
    }
   ],
   "source": [
    "path = \"../../outputs/gama-dmu/\"\n",
    "table = Table.read(os.path.join(path, \"GKGZFinalv01.fits.gz\"))\n",
    "test = (table['CATAID'] == np.sort(table['CATAID'])).all()\n",
    "print('Final catalolgue sorted by CATAID:', test)"
   ]
  }
 ],
 "metadata": {
  "hide_input": false,
  "kernelspec": {
   "display_name": "Python [conda env:leeastro]",
   "language": "python",
   "name": "conda-env-leeastro-py"
  },
  "language_info": {
   "codemirror_mode": {
    "name": "ipython",
    "version": 3
   },
   "file_extension": ".py",
   "mimetype": "text/x-python",
   "name": "python",
   "nbconvert_exporter": "python",
   "pygments_lexer": "ipython3",
   "version": "3.8.8"
  }
 },
 "nbformat": 4,
 "nbformat_minor": 5
}
