{
 "cells": [
  {
   "cell_type": "markdown",
   "metadata": {},
   "source": [
    "# GKGZ Finalise Notebook\n",
    "\n",
    "This notebook takes in the final debaised output catalogue, merges with the additional extra information columns from the GAMA database, and generates additional lookup convenience columns."
   ]
  },
  {
   "cell_type": "code",
   "execution_count": 1,
   "metadata": {
    "tags": []
   },
   "outputs": [
    {
     "name": "stdout",
     "output_type": "stream",
     "text": [
      "Notebook start time:\n",
      "   2020-12-09 20:42:05 CST\n"
     ]
    }
   ],
   "source": [
    "# imports\n",
    "import os\n",
    "import sys\n",
    "import copy\n",
    "import glob\n",
    "import time\n",
    "import warnings\n",
    "import functools\n",
    "import numpy as np\n",
    "import pandas as pd\n",
    "import matplotlib\n",
    "import matplotlib.pyplot as plt\n",
    "from mpl_toolkits.axes_grid1.anchored_artists import (\n",
    "    AnchoredSizeBar as scalebar\n",
    ")\n",
    "from mpl_toolkits.axes_grid1 import make_axes_locatable\n",
    "from collections import Counter\n",
    "from scipy.ndimage import gaussian_filter\n",
    "import astropy.units as u\n",
    "from astropy.table import Table, join\n",
    "from astropy.cosmology import FlatLambdaCDM\n",
    "from astropy.coordinates import (SkyCoord, match_coordinates_sky)\n",
    "import multiprocessing\n",
    "\n",
    "# startup\n",
    "%matplotlib inline\n",
    "%config InlineBackend.print_figure_kwargs={'facecolor':\"w\"}\n",
    "def timecheck(start = None, timefmt = '%Y-%m-%d %H:%M:%S %Z'):\n",
    "    now = time.time()\n",
    "    out = time.strftime(timefmt, time.localtime(now))\n",
    "    if start:\n",
    "        diff = time.strftime('%H:%M:%S', time.gmtime(now-start))\n",
    "        out += f' (elapsed: {diff})'\n",
    "    return [now, out]\n",
    "nbt0, nbt0str = timecheck()\n",
    "print(f'Notebook start time:\\n   {nbt0str}')\n",
    "#--------------------------------68-------------------------------->\n",
    "\n",
    "# one-liners\n",
    "def seq(a, b, by): return np.arange(a, b + by/2, by)\n",
    "def npmad(x): return 1.4826*np.nanmedian(np.abs(x-np.nanmedian(x)))\n",
    "def ddir(x): return [y for y in dir(x) if not y.startswith('__')]\n",
    "def minmax(x): return [np.nanmin(x), np.nanmax(x)]\n",
    "def extendrange(x,f=0.05):u,v=minmax(x);d=(v-u)*(1+f);return v-d,u+d\n",
    "def findin(x, y): return [l for l in list(x) if y in str(l)]\n",
    "def z2dist(z): return FlatLambdaCDM(70, 0.3).luminosity_distance(z)\n",
    "def mag2Mag(m, z): return m+5-5*np.log10(z2dist(z).to(u.pc).value)\n",
    "def stripnan(x): return np.asarray(x)[~np.isnan(x)]\n",
    "def qindex(a, q): return abs(a - np.percentile(a, q*100)).argmin()"
   ]
  },
  {
   "cell_type": "code",
   "execution_count": 2,
   "metadata": {},
   "outputs": [],
   "source": [
    "# input data\n",
    "cln_file = '../../outputs/gkgz-cleaned.fits.gz'\n",
    "deb_file = '../../outputs/gkgz-debiased.fits.gz'\n",
    "ext_file = '../../outputs/gkgz-extra.fits.gz'\n",
    "# read in datasets (using ext as dat base)\n",
    "dat = Table.read(ext_file)\n",
    "deb = Table.read(deb_file)"
   ]
  },
  {
   "cell_type": "code",
   "execution_count": 3,
   "metadata": {},
   "outputs": [],
   "source": [
    "# remove unwanted columns\n",
    "badcols = [x for x in deb.columns.keys()\n",
    "           if (x in dat.columns.keys() and x != 'CATAID')]\n",
    "deb.remove_columns(badcols)"
   ]
  },
  {
   "cell_type": "code",
   "execution_count": 4,
   "metadata": {},
   "outputs": [],
   "source": [
    "# reorder columns prior to merge\n",
    "questions = [x.split('_')[0] for x in deb.columns if '_total' in x]\n",
    "columns = []\n",
    "for qq in questions:\n",
    "    columns.append([x for x in deb.columns\n",
    "                    if f'LSK{qq}_' in f'LSK{x}'])\n",
    "columns = [item for sublist in columns for item in sublist]\n",
    "columns = ['CATAID'] + columns\n",
    "deb = deb[columns]"
   ]
  },
  {
   "cell_type": "code",
   "execution_count": 5,
   "metadata": {},
   "outputs": [],
   "source": [
    "# merge\n",
    "dat = join(dat, deb, keys='CATAID', join_type='left',\n",
    "           metadata_conflicts='silent')"
   ]
  },
  {
   "cell_type": "code",
   "execution_count": 6,
   "metadata": {},
   "outputs": [],
   "source": [
    "# add FILENAME, URL and URL424 columns\n",
    "gp='/GAMA/data/files/GZClassifications/v01'\n",
    "gu='http://www.gama-survey.org/data/files/GZClassifications/v01'\n",
    "zu='http://s3.amazonaws.com/zooniverse-data/project_data/galaxy_zoo'\n",
    "region = ['gama09' if x < 150\n",
    "          else 'gama15' if x > 200\n",
    "          else 'gama12' for x in dat['RA']]\n",
    "fileNative = [f'{gp}/native/G{g}-native.png'\n",
    "              for g in dat['CATAID']]\n",
    "fileInvert = [f'{gp}/invert/G{g}-invert.png'\n",
    "              for g in dat['CATAID']]\n",
    "urlNative = [f'{gu}/native/G{g}-native.png'\n",
    "             for g in dat['CATAID']]\n",
    "urlInvert = [f'{gu}/invert/G{g}-invert.png'\n",
    "             for g in dat['CATAID']]\n",
    "urlNative424 = [f'{zu}/{r}/native/G{g}-native-424.png'\n",
    "                for g,r in zip(dat['CATAID'],region)]\n",
    "urlInvert424 = [f'{zu}/{r}/invert/G{g}-invert-424.png'\n",
    "                for g,r in zip(dat['CATAID'],region)]\n",
    "urlThumb = [f'{zu}/{r}/thumb/G{g}-thumb-150.png'\n",
    "            for g,r in zip(dat['CATAID'],region)]\n",
    "dat['FILENAME_NATIVE'] = fileNative\n",
    "dat['FILENAME_INVERT'] = fileInvert\n",
    "dat['URL_NATIVE'] = urlNative\n",
    "dat['URL_INVERT'] = urlInvert\n",
    "dat['URL_NATIVE_424'] = urlNative424\n",
    "dat['URL_INVERT_424'] = urlInvert424\n",
    "dat['URL_THUMB'] = urlThumb"
   ]
  },
  {
   "cell_type": "code",
   "execution_count": 7,
   "metadata": {
    "scrolled": false
   },
   "outputs": [
    {
     "data": {
      "text/html": [
       "<i>Table length=3</i>\n",
       "<table id=\"table140019273767312\" class=\"table-striped table-bordered table-condensed\">\n",
       "<thead><tr><th>CATAID</th><th>RA</th><th>DEC</th><th>zooniverse_id</th><th>subject_id</th><th>absmag_r</th><th>GALRE_r_kpc</th><th>Z_TONRY</th><th>Zfof</th><th>features_clean_total</th><th>features_deb_psamp</th><th>features_smooth_deb_frac</th><th>features_features_deb_frac</th><th>features_star_or_artifact_deb_frac</th><th>edgeon_clean_total</th><th>edgeon_deb_psamp</th><th>edgeon_yes_deb_frac</th><th>edgeon_no_deb_frac</th><th>bar_clean_total</th><th>bar_deb_psamp</th><th>bar_bar_deb_frac</th><th>bar_no_bar_deb_frac</th><th>spiral_clean_total</th><th>spiral_deb_psamp</th><th>spiral_spiral_deb_frac</th><th>spiral_no_spiral_deb_frac</th><th>bulge_clean_total</th><th>bulge_deb_psamp</th><th>bulge_no_bulge_deb_frac</th><th>bulge_obvious_deb_frac</th><th>bulge_dominant_deb_frac</th><th>spiralwinding_clean_total</th><th>spiralwinding_deb_psamp</th><th>spiralwinding_tight_deb_frac</th><th>spiralwinding_medium_deb_frac</th><th>spiralwinding_loose_deb_frac</th><th>spiralnumber_clean_total</th><th>spiralnumber_deb_psamp</th><th>spiralnumber_1_deb_frac</th><th>spiralnumber_2_deb_frac</th><th>spiralnumber_3_deb_frac</th><th>spiralnumber_4_deb_frac</th><th>spiralnumber_more_than_4_deb_frac</th><th>bulgeshape_clean_total</th><th>bulgeshape_deb_psamp</th><th>bulgeshape_rounded_deb_frac</th><th>bulgeshape_boxy_deb_frac</th><th>bulgeshape_no_bulge_deb_frac</th><th>round_clean_total</th><th>round_deb_psamp</th><th>round_completely_round_deb_frac</th><th>round_in_between_deb_frac</th><th>round_cigar_shaped_deb_frac</th><th>mergers_clean_total</th><th>mergers_deb_psamp</th><th>mergers_merging_deb_frac</th><th>mergers_tidal_debris_deb_frac</th><th>mergers_both_deb_frac</th><th>mergers_neither_deb_frac</th><th>oddtype_clean_total</th><th>oddtype_deb_psamp</th><th>oddtype_none_deb_frac</th><th>oddtype_ring_deb_frac</th><th>oddtype_lens_or_arc_deb_frac</th><th>oddtype_irregular_deb_frac</th><th>oddtype_other_deb_frac</th><th>oddtype_dust_lane_deb_frac</th><th>oddtype_overlapping_deb_frac</th><th>discuss_clean_total</th><th>discuss_deb_psamp</th><th>discuss_yes_deb_frac</th><th>discuss_no_deb_frac</th><th>FILENAME_NATIVE</th><th>FILENAME_INVERT</th><th>URL_NATIVE</th><th>URL_INVERT</th><th>URL_NATIVE_424</th><th>URL_INVERT_424</th><th>URL_THUMB</th></tr></thead>\n",
       "<thead><tr><th>int32</th><th>float64</th><th>float64</th><th>bytes10</th><th>bytes24</th><th>float64</th><th>float64</th><th>float64</th><th>float64</th><th>float64</th><th>bool</th><th>float64</th><th>float64</th><th>float64</th><th>float64</th><th>bool</th><th>float64</th><th>float64</th><th>float64</th><th>bool</th><th>float64</th><th>float64</th><th>float64</th><th>bool</th><th>float64</th><th>float64</th><th>float64</th><th>bool</th><th>float64</th><th>float64</th><th>float64</th><th>float64</th><th>bool</th><th>float64</th><th>float64</th><th>float64</th><th>float64</th><th>bool</th><th>float64</th><th>float64</th><th>float64</th><th>float64</th><th>float64</th><th>float64</th><th>bool</th><th>float64</th><th>float64</th><th>float64</th><th>float64</th><th>bool</th><th>float64</th><th>float64</th><th>float64</th><th>float64</th><th>bool</th><th>float64</th><th>float64</th><th>float64</th><th>float64</th><th>float64</th><th>bool</th><th>float64</th><th>float64</th><th>float64</th><th>float64</th><th>float64</th><th>float64</th><th>float64</th><th>float64</th><th>bool</th><th>float64</th><th>float64</th><th>str65</th><th>str65</th><th>str86</th><th>str86</th><th>str101</th><th>str101</th><th>str99</th></tr></thead>\n",
       "<tr><td>6802</td><td>174.00598431</td><td>0.72093463</td><td>AGZ000e60u</td><td>5857e78ed369fd0040006001</td><td>-18.18183</td><td>1.12046880203965</td><td>0.051813804</td><td>nan</td><td>25.16696013229547</td><td>True</td><td>0.7129805401359826</td><td>0.31385422503696314</td><td>0.014696345324099526</td><td>2.0</td><td>False</td><td>0.0</td><td>1.0</td><td>2.0</td><td>False</td><td>0.8123914434439976</td><td>0.04608756877107866</td><td>2.0</td><td>False</td><td>0.0</td><td>1.0</td><td>2.0</td><td>False</td><td>0.0</td><td>0.0</td><td>1.0</td><td>0.0</td><td>False</td><td>-1.0</td><td>-1.0</td><td>-1.0</td><td>0.0</td><td>False</td><td>-1.0</td><td>-1.0</td><td>-1.0</td><td>0.0</td><td>-1.0</td><td>0.0</td><td>False</td><td>-1.0</td><td>-1.0</td><td>-1.0</td><td>22.725377814525917</td><td>True</td><td>0.0</td><td>0.8002174994255468</td><td>0.7303432536164496</td><td>24.725377814525913</td><td>True</td><td>0.023291967251639224</td><td>0.10974005328505934</td><td>0.046853051930938173</td><td>0.7729224514060943</td><td>24.725377814525913</td><td>True</td><td>0.1434757999296616</td><td>0.0</td><td>0.0</td><td>0.0</td><td>0.0881691049751382</td><td>0.0003288208125459414</td><td>0.0</td><td>25.166960132295472</td><td>True</td><td>0.06023361373221295</td><td>0.9103971733601464</td><td>/GAMA/data/files/GZClassifications/v01/native/G6802-native.png</td><td>/GAMA/data/files/GZClassifications/v01/invert/G6802-invert.png</td><td>http://www.gama-survey.org/data/files/GZClassifications/v01/native/G6802-native.png</td><td>http://www.gama-survey.org/data/files/GZClassifications/v01/invert/G6802-invert.png</td><td>http://s3.amazonaws.com/zooniverse-data/project_data/galaxy_zoo/gama12/native/G6802-native-424.png</td><td>http://s3.amazonaws.com/zooniverse-data/project_data/galaxy_zoo/gama12/invert/G6802-invert-424.png</td><td>http://s3.amazonaws.com/zooniverse-data/project_data/galaxy_zoo/gama12/thumb/G6802-thumb-150.png</td></tr>\n",
       "<tr><td>6816</td><td>174.01897122</td><td>0.66580358</td><td>AGZ000e60v</td><td>5857e78ed369fd0040006003</td><td>-17.854446</td><td>1.38936163109771</td><td>0.077715404</td><td>nan</td><td>30.625664309062003</td><td>True</td><td>0.21365984418457334</td><td>0.5539406941264615</td><td>0.3218207228437148</td><td>2.7687013957220907</td><td>False</td><td>0.17184471706595564</td><td>0.7825248613320017</td><td>2.0</td><td>False</td><td>0.0</td><td>1.0</td><td>2.0</td><td>False</td><td>0.0</td><td>1.0</td><td>2.0</td><td>False</td><td>0.27586559161395</td><td>0.6550339883144699</td><td>0.0</td><td>0.0</td><td>False</td><td>-1.0</td><td>-1.0</td><td>-1.0</td><td>0.0</td><td>False</td><td>-1.0</td><td>-1.0</td><td>-1.0</td><td>0.0</td><td>-1.0</td><td>0.7687013957220906</td><td>False</td><td>1.0</td><td>0.0</td><td>0.0</td><td>23.87677372279706</td><td>False</td><td>0.10310805092159436</td><td>0.6205745601052047</td><td>0.12373584478242362</td><td>26.64547511851915</td><td>True</td><td>0.1177998440399257</td><td>0.1164985860001981</td><td>0.09335122653886388</td><td>0.6132496195370996</td><td>26.64547511851915</td><td>True</td><td>0.26832728081411417</td><td>0.0</td><td>0.0</td><td>0.0</td><td>0.0</td><td>0.0</td><td>0.0</td><td>30.625664309062003</td><td>True</td><td>0.0</td><td>1.0</td><td>/GAMA/data/files/GZClassifications/v01/native/G6816-native.png</td><td>/GAMA/data/files/GZClassifications/v01/invert/G6816-invert.png</td><td>http://www.gama-survey.org/data/files/GZClassifications/v01/native/G6816-native.png</td><td>http://www.gama-survey.org/data/files/GZClassifications/v01/invert/G6816-invert.png</td><td>http://s3.amazonaws.com/zooniverse-data/project_data/galaxy_zoo/gama12/native/G6816-native-424.png</td><td>http://s3.amazonaws.com/zooniverse-data/project_data/galaxy_zoo/gama12/invert/G6816-invert-424.png</td><td>http://s3.amazonaws.com/zooniverse-data/project_data/galaxy_zoo/gama12/thumb/G6816-thumb-150.png</td></tr>\n",
       "<tr><td>6821</td><td>174.15315328</td><td>0.81543855</td><td>AGZ000e60q</td><td>5857e78ed369fd0040006005</td><td>-15.608814</td><td>0.698103753888339</td><td>0.0045812135</td><td>nan</td><td>25.825580457972908</td><td>True</td><td>0.1548851924745457</td><td>0.6188427685952332</td><td>0.22627203893022102</td><td>15.981973711190909</td><td>True</td><td>0.08013526363023014</td><td>0.9198647363697698</td><td>14.701254034513218</td><td>True</td><td>0.020743273881561015</td><td>0.979256726118439</td><td>14.701254034513218</td><td>True</td><td>0.0680214080820835</td><td>0.9319785919179165</td><td>14.701254034513218</td><td>True</td><td>0.8635688597333222</td><td>0.0</td><td>0.13643114026667774</td><td>1.0</td><td>False</td><td>0.0</td><td>0.0</td><td>1.0</td><td>1.0</td><td>False</td><td>0.0</td><td>1.0</td><td>0.0</td><td>0.0</td><td>0.0</td><td>1.2807196766776912</td><td>False</td><td>0.8083479524078168</td><td>0.19747610087552772</td><td>0.0</td><td>4.0</td><td>False</td><td>0.0</td><td>1.0</td><td>0.0</td><td>19.981973711190907</td><td>True</td><td>0.014274847680251645</td><td>0.26548689411343146</td><td>0.00028570006953504895</td><td>0.7199525581367818</td><td>19.981973711190907</td><td>True</td><td>0.10725852793192801</td><td>0.0</td><td>0.0</td><td>0.5199983342273601</td><td>0.3198179087191533</td><td>0.050045106377051764</td><td>0.10795705820566667</td><td>25.82558045797291</td><td>True</td><td>0.24337263750204147</td><td>0.7566273624979587</td><td>/GAMA/data/files/GZClassifications/v01/native/G6821-native.png</td><td>/GAMA/data/files/GZClassifications/v01/invert/G6821-invert.png</td><td>http://www.gama-survey.org/data/files/GZClassifications/v01/native/G6821-native.png</td><td>http://www.gama-survey.org/data/files/GZClassifications/v01/invert/G6821-invert.png</td><td>http://s3.amazonaws.com/zooniverse-data/project_data/galaxy_zoo/gama12/native/G6821-native-424.png</td><td>http://s3.amazonaws.com/zooniverse-data/project_data/galaxy_zoo/gama12/invert/G6821-invert-424.png</td><td>http://s3.amazonaws.com/zooniverse-data/project_data/galaxy_zoo/gama12/thumb/G6821-thumb-150.png</td></tr>\n",
       "</table>"
      ],
      "text/plain": [
       "<Table length=3>\n",
       "CATAID ...\n",
       "int32  ...\n",
       "------ ...\n",
       "  6802 ...\n",
       "  6816 ...\n",
       "  6821 ..."
      ]
     },
     "metadata": {},
     "output_type": "display_data"
    }
   ],
   "source": [
    "display(dat[0:3])"
   ]
  },
  {
   "cell_type": "code",
   "execution_count": 8,
   "metadata": {},
   "outputs": [],
   "source": [
    "# write final output and gzip\n",
    "output_cat = '../gkgz-final.fits.gz'\n",
    "if output_cat[-3:] == '.gz':\n",
    "    output_cat_TEMP = output_cat[:-3]\n",
    "    if os.path.exists(output_cat_TEMP):\n",
    "        os.remove(output_cat_TEMP)\n",
    "    if os.path.exists(output_cat):\n",
    "        os.remove(output_cat)\n",
    "    dat.write(output_cat_TEMP)\n",
    "    cmd = f'gzip --best {output_cat_TEMP}'\n",
    "    !{cmd}\n",
    "else:\n",
    "    if os.path.exists(output_cat):\n",
    "        os.remove(output_cat)\n",
    "    dat.write(output_cat)"
   ]
  },
  {
   "cell_type": "code",
   "execution_count": 9,
   "metadata": {},
   "outputs": [
    {
     "name": "stdout",
     "output_type": "stream",
     "text": [
      "Notebook end time:\n",
      "   2020-12-09 20:42:13 CST (elapsed: 00:00:08)\n"
     ]
    }
   ],
   "source": [
    "# Notebook finish up\n",
    "nbt1, nbt1str = timecheck(nbt0)\n",
    "print(f'Notebook end time:\\n   {nbt1str}')\n",
    "#--------------------------------68-------------------------------->"
   ]
  }
 ],
 "metadata": {
  "kernelspec": {
   "display_name": "Python 3",
   "language": "python",
   "name": "python3"
  },
  "language_info": {
   "codemirror_mode": {
    "name": "ipython",
    "version": 3
   },
   "file_extension": ".py",
   "mimetype": "text/x-python",
   "name": "python",
   "nbconvert_exporter": "python",
   "pygments_lexer": "ipython3",
   "version": "3.7.8"
  }
 },
 "nbformat": 4,
 "nbformat_minor": 2
}
